{
    "cells": [
        {
            "metadata": {},
            "cell_type": "markdown",
            "source": "# Segmenting and Clustering Neighborhoods in Toronto\n"
        },
        {
            "metadata": {},
            "cell_type": "markdown",
            "source": "<b> we will obtain the data from the following link https://en.wikipedia.org/wiki/List_of_postal_codes_of_Canada:_M and save it into CSV file, and then read it here and start with cleaning the data </b>"
        },
        {
            "metadata": {},
            "cell_type": "code",
            "source": "import pandas as pd\nimport numpy as np\nimport requests\nfrom bs4 import BeautifulSoup",
            "execution_count": 28,
            "outputs": []
        },
        {
            "metadata": {},
            "cell_type": "code",
            "source": "URL = \"https://en.wikipedia.org/wiki/List_of_postal_codes_of_Canada:_M\"\nres = requests.get(URL).text\nsoup = BeautifulSoup(res,'lxml')\n\ntable = soup.find(\"table\")\ntable_rows = table.tbody.find_all(\"tr\")         # tr \"table rows\" in source code of wikipedia page\"\n\nres = []                                        # Create Empty list\nfor tr in table_rows:\n    td = tr.find_all(\"td\")                      # td \"cell\" in source code of wikipedia page\"\n    row = [tr.text for tr in td]\n   \n    if row != [] and row[1] != \"Not assigned\":  # Only process the cells that have an assigned borough. Ignore cells with a borough that is Not assigned.\n\n        if \"Not assigned\" in row[2]:            # If a cell has a borough but a \"Not assigned\" neighborhood, then the neighborhood will be the same as the borough.\n            row[2] = row[1]\n        res.append(row)\n\n\ndf = pd.DataFrame(res, columns = [\"PostalCode\", \"Borough\", \"Neighborhood\"])\ndf.head()",
            "execution_count": null,
            "outputs": []
        },
        {
            "metadata": {},
            "cell_type": "code",
            "source": "",
            "execution_count": null,
            "outputs": []
        }
    ],
    "metadata": {
        "kernelspec": {
            "name": "python3",
            "display_name": "Python 3.6",
            "language": "python"
        },
        "language_info": {
            "name": "python",
            "version": "3.6.9",
            "mimetype": "text/x-python",
            "codemirror_mode": {
                "name": "ipython",
                "version": 3
            },
            "pygments_lexer": "ipython3",
            "nbconvert_exporter": "python",
            "file_extension": ".py"
        }
    },
    "nbformat": 4,
    "nbformat_minor": 1
}