{
    "cells": [
        {
            "metadata": {},
            "cell_type": "markdown",
            "source": "# The Battle of Neighborhoods | Data Description"
        },
        {
            "metadata": {},
            "cell_type": "markdown",
            "source": "<h3>Information Description:</h3>"
        },
        {
            "metadata": {},
            "cell_type": "markdown",
            "source": "<h3>Information Link:https://en.wikipedia.org/wiki/List_of_postal_codes_of_Canada:_M </h3>"
        },
        {
            "metadata": {},
            "cell_type": "markdown",
            "source": "Will utilize Scarborough dataset which we rejected from wikipedia on Week 3. Dataset comprising of scope and longitude, postal districts."
        },
        {
            "metadata": {},
            "cell_type": "markdown",
            "source": "<h3>Foursquare API Data:</h3>"
        },
        {
            "metadata": {},
            "cell_type": "markdown",
            "source": ""
        }
    ],
    "metadata": {
        "kernelspec": {
            "name": "python3",
            "display_name": "Python 3.6",
            "language": "python"
        },
        "language_info": {
            "name": "python",
            "version": "3.6.9",
            "mimetype": "text/x-python",
            "codemirror_mode": {
                "name": "ipython",
                "version": 3
            },
            "pygments_lexer": "ipython3",
            "nbconvert_exporter": "python",
            "file_extension": ".py"
        }
    },
    "nbformat": 4,
    "nbformat_minor": 1
}