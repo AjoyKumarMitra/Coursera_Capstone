{
    "cells": [
        {
            "cell_type": "markdown",
            "metadata": {},
            "source": "# The Battle of Neighborhoods | Data Description"
        },
        {
            "cell_type": "markdown",
            "metadata": {},
            "source": "<h3>Information Description:</h3>"
        },
        {
            "cell_type": "markdown",
            "metadata": {},
            "source": "<h3>Information Link:https://en.wikipedia.org/wiki/List_of_postal_codes_of_Canada:_M </h3>"
        },
        {
            "cell_type": "markdown",
            "metadata": {},
            "source": "Will utilize Scarborough dataset which we rejected from wikipedia on Week 3. Dataset comprising of scope and longitude, postal districts."
        },
        {
            "cell_type": "markdown",
            "metadata": {},
            "source": "<h3>Foursquare API Data:</h3>"
        },
        {
            "cell_type": "markdown",
            "metadata": {},
            "source": "We will require information about various settings in various neighborhoods of that particular precinct. So as to pick up that data we will utilize \"Foursquare\" locational data. Foursquare is an area information supplier with data pretty much all way of settings and occasions inside a territory of intrigue. Such data incorporates setting names, areas, menus and even photographs. Accordingly, the foursquare area stage will be utilized as the sole information source since all the expressed required data can be acquired through the API.\n\nIn the wake of finding the rundown of neighborhoods, we at that point interface with the Foursquare API to assemble data about scenes inside every single neighborhood. For every area, we have picked the range to be 100 meter.\n\nThe information recovered from Foursquare contained data of scenes inside a predefined separation of the longitude and scope of the postcodes. The data acquired per scene as follows:\n\n1. Neighborhood\n\n2. Neighborhood Latitude\n\n3. Neighborhood Longitude\n\n4. Scene\n\n5. Name of the scene for example the name of a store or caf\u00e9\n\n6. Scene Latitude\n\n7. Scene Longitude\n\n8. Scene Category"
        }
    ],
    "metadata": {
        "kernelspec": {
            "display_name": "Python 3.6",
            "language": "python",
            "name": "python3"
        },
        "language_info": {
            "codemirror_mode": {
                "name": "ipython",
                "version": 3
            },
            "file_extension": ".py",
            "mimetype": "text/x-python",
            "name": "python",
            "nbconvert_exporter": "python",
            "pygments_lexer": "ipython3",
            "version": "3.6.9"
        }
    },
    "nbformat": 4,
    "nbformat_minor": 1
}